{
 "cells": [
  {
   "cell_type": "code",
   "execution_count": 1,
   "id": "847aabb3-6282-4f24-a84a-0ecd33cec523",
   "metadata": {},
   "outputs": [
    {
     "name": "stdout",
     "output_type": "stream",
     "text": [
      "Stata 17.0 (MP)\n"
     ]
    }
   ],
   "source": [
    "%run nb_header.py"
   ]
  },
  {
   "cell_type": "markdown",
   "id": "59769cfd-d32a-485b-b827-8d2926976b67",
   "metadata": {},
   "source": [
    "# Modeling Individual-Level CDC Data on COVID Deaths"
   ]
  },
  {
   "cell_type": "markdown",
   "id": "8eeddad5-adf0-4362-9698-16dd5ea26fd6",
   "metadata": {},
   "source": [
    "Start with the [CDC Public Use data](https://data.cdc.gov/Case-Surveillance/COVID-19-Case-Surveillance-Public-Use-Data-with-Ge/ynhu-f2s2) downloaded on 2021-10-28, restricted to the period up through February 2021 (i.e., when the COVID Tracking Project stopped operating). Data preprocessing performed by [preprocess.py](../data/cdc/preprocess.py)."
   ]
  },
  {
   "cell_type": "code",
   "execution_count": 2,
   "id": "51a3681c-bd43-4fb1-a1e4-74af1f7042b1",
   "metadata": {},
   "outputs": [
    {
     "data": {
      "text/html": [
       "<div>\n",
       "<style scoped>\n",
       "    .dataframe tbody tr th:only-of-type {\n",
       "        vertical-align: middle;\n",
       "    }\n",
       "\n",
       "    .dataframe tbody tr th {\n",
       "        vertical-align: top;\n",
       "    }\n",
       "\n",
       "    .dataframe thead th {\n",
       "        text-align: right;\n",
       "    }\n",
       "</style>\n",
       "<table border=\"1\" class=\"dataframe\">\n",
       "  <thead>\n",
       "    <tr style=\"text-align: right;\">\n",
       "      <th></th>\n",
       "      <th>case_month</th>\n",
       "      <th>res_state</th>\n",
       "      <th>age_group</th>\n",
       "      <th>sex</th>\n",
       "      <th>race</th>\n",
       "      <th>ethnicity</th>\n",
       "      <th>death_yn</th>\n",
       "    </tr>\n",
       "  </thead>\n",
       "  <tbody>\n",
       "    <tr>\n",
       "      <th>0</th>\n",
       "      <td>2020-11</td>\n",
       "      <td>IN</td>\n",
       "      <td>0 - 17 years</td>\n",
       "      <td>NaN</td>\n",
       "      <td>NaN</td>\n",
       "      <td>NaN</td>\n",
       "      <td>No</td>\n",
       "    </tr>\n",
       "    <tr>\n",
       "      <th>1</th>\n",
       "      <td>2020-08</td>\n",
       "      <td>MI</td>\n",
       "      <td>18 to 49 years</td>\n",
       "      <td>NaN</td>\n",
       "      <td>NaN</td>\n",
       "      <td>NaN</td>\n",
       "      <td>No</td>\n",
       "    </tr>\n",
       "    <tr>\n",
       "      <th>2</th>\n",
       "      <td>2020-07</td>\n",
       "      <td>WI</td>\n",
       "      <td>18 to 49 years</td>\n",
       "      <td>NaN</td>\n",
       "      <td>NaN</td>\n",
       "      <td>NaN</td>\n",
       "      <td>Unknown</td>\n",
       "    </tr>\n",
       "    <tr>\n",
       "      <th>3</th>\n",
       "      <td>2020-12</td>\n",
       "      <td>KY</td>\n",
       "      <td>0 - 17 years</td>\n",
       "      <td>Female</td>\n",
       "      <td>NaN</td>\n",
       "      <td>NaN</td>\n",
       "      <td>NaN</td>\n",
       "    </tr>\n",
       "    <tr>\n",
       "      <th>4</th>\n",
       "      <td>2020-12</td>\n",
       "      <td>IL</td>\n",
       "      <td>0 - 17 years</td>\n",
       "      <td>Female</td>\n",
       "      <td>Missing</td>\n",
       "      <td>Missing</td>\n",
       "      <td>Missing</td>\n",
       "    </tr>\n",
       "  </tbody>\n",
       "</table>\n",
       "</div>"
      ],
      "text/plain": [
       "  case_month res_state       age_group     sex     race ethnicity death_yn\n",
       "0    2020-11        IN    0 - 17 years     NaN      NaN       NaN       No\n",
       "1    2020-08        MI  18 to 49 years     NaN      NaN       NaN       No\n",
       "2    2020-07        WI  18 to 49 years     NaN      NaN       NaN  Unknown\n",
       "3    2020-12        KY    0 - 17 years  Female      NaN       NaN      NaN\n",
       "4    2020-12        IL    0 - 17 years  Female  Missing   Missing  Missing"
      ]
     },
     "execution_count": 2,
     "metadata": {},
     "output_type": "execute_result"
    }
   ],
   "source": [
    "import pandas as pd\n",
    "df = pd.read_feather('data/cdc/preprocessed.lz4')\n",
    "df.head()"
   ]
  },
  {
   "cell_type": "markdown",
   "id": "d1b1fb88-e074-4d87-9494-9c62356f0fb9",
   "metadata": {},
   "source": [
    "Drop states with no deaths or survivors, assumed to signal obvious reporting problems."
   ]
  },
  {
   "cell_type": "code",
   "execution_count": 3,
   "id": "dd3f1c65-5c4c-4055-b05e-278c1af85760",
   "metadata": {
    "tags": []
   },
   "outputs": [
    {
     "name": "stdout",
     "output_type": "stream",
     "text": [
      "\n"
     ]
    }
   ],
   "source": [
    "%%stata -d df -force -qui\n",
    "gen month = monthly(case_month,\"YM\")\n",
    "format month %tm\n",
    "gen byte deceased = (death_yn==\"Yes\") if inlist(death_yn,\"Yes\",\"No\")\n",
    "egen cfr = mean(deceased), by(res_state)\n",
    "drop if inlist(cfr,0,1,.)"
   ]
  },
  {
   "cell_type": "markdown",
   "id": "937e44e5-b738-4b68-9282-acef1fc183b3",
   "metadata": {},
   "source": [
    "Drop an additional 3 outliers plus ND which has no information on White, Black or Latinx cases, leaving us with 38 states."
   ]
  },
  {
   "cell_type": "code",
   "execution_count": 4,
   "id": "d16435fe-6165-411e-9190-744bdf2e4271",
   "metadata": {
    "tags": []
   },
   "outputs": [
    {
     "name": "stdout",
     "output_type": "stream",
     "text": [
      "\n",
      "                             cfr\n",
      "-------------------------------------------------------------\n",
      "      Percentiles      Smallest\n",
      " 1%     .0025811       .0025811\n",
      " 5%     .0029789       .0028438\n",
      "10%     .0040208       .0029789       Obs                  42\n",
      "25%     .0092379       .0032788       Sum of wgt.          42\n",
      "\n",
      "50%     .0178277                      Mean           .0838265\n",
      "                        Largest       Std. dev.       .204954\n",
      "75%     .0435036       .1634144\n",
      "90%     .1234509       .5080569       Variance       .0420061\n",
      "95%     .5080569       .8390647       Skewness       3.513239\n",
      "99%     .9836137       .9836137       Kurtosis       14.35867\n",
      "\n",
      "     +---------------------+\n",
      "     | res_st~e        cfr |\n",
      "     |---------------------|\n",
      "  5. |       IL   .9836137 |\n",
      " 38. |       RI   .5080569 |\n",
      " 42. |       PR   .8390647 |\n",
      "     +---------------------+\n",
      "\n",
      "                                  race |      Freq.     Percent        Cum.\n",
      "---------------------------------------+-----------------------------------\n",
      "         American Indian/Alaska Native |        484        2.00        2.00\n",
      "                                 Asian |         97        0.40        2.40\n",
      "                               Missing |     14,112       58.38       60.78\n",
      "                               Unknown |      7,281       30.12       90.90\n",
      "                                   nan |      2,200        9.10      100.00\n",
      "---------------------------------------+-----------------------------------\n",
      "                                 Total |     24,174      100.00\n",
      "\n"
     ]
    }
   ],
   "source": [
    "%%stata -qui\n",
    "preserve\n",
    "keep res_state cfr\n",
    "duplicates drop\n",
    "noi sum cfr, det\n",
    "noi li if cfr>0.5\n",
    "restore\n",
    "noi tab race if res_state==\"ND\", m\n",
    "drop if inlist(res_state,\"IL\",\"RI\",\"PR\",\"ND\")\n",
    "encode res_state, gen(state)"
   ]
  },
  {
   "cell_type": "markdown",
   "id": "73fe684b-13c3-4d42-9706-1ea1f1655c69",
   "metadata": {},
   "source": [
    "Recode covariates and collapse counts to improve performance when fitting model."
   ]
  },
  {
   "cell_type": "code",
   "execution_count": 5,
   "id": "732b96f9-78d9-4216-92a0-938cd47737be",
   "metadata": {},
   "outputs": [
    {
     "name": "stdout",
     "output_type": "stream",
     "text": [
      "\n"
     ]
    }
   ],
   "source": [
    "%%stata -qui\n",
    "gen byte agegrp = 1 if age_group==\"0 - 17 years\"\n",
    "replace agegrp = 2 if age_group==\"18 to 49 years\"\n",
    "replace agegrp = 3 if age_group==\"50 to 64 years\"\n",
    "replace agegrp = 4 if age_group==\"65+ years\"\n",
    "gen byte female = (sex==\"Female\") if inlist(sex,\"Male\",\"Female\")\n",
    "gen byte ethgrp = 1 if race==\"White\" & ethnicity==\"Non-Hispanic/Latino\"\n",
    "replace ethgrp = 2 if race==\"Black\"\n",
    "replace ethgrp = 3 if ethnicity==\"Hispanic/Latino\" & mi(ethgrp)\n",
    "contract res_state state month deceased agegrp female ethgrp, freq(deaths)\n",
    "keep if inlist(deceased,0,1)\n",
    "egen cases = total(deaths), by(res_state state month agegrp female ethgrp)\n",
    "keep if deceased==1"
   ]
  },
  {
   "cell_type": "markdown",
   "id": "a200bc63-111d-4dd7-8da4-59aa44a356f4",
   "metadata": {},
   "source": [
    "Now we fit a Poisson model using the number of cases as the exposure and modeling the time trend using restricted cubic splines. Given our previous results based on the aggregate counts, we also include an interaction between age group and race/ethnicity. We start off with a base model not accounting for additional variability across states or across time within state. Part of the purpose here is to get a sense of what the standard errors look like when using the robust (sandwich) variance estimator, both unclustered and when clustered at the state level (n=38, unbalanced); as you can see, the biggest difference is when moving from the non-robust to the robust (i.e., relaxing the Poisson variance assumption) rather than when moving from the robust to the clustered."
   ]
  },
  {
   "cell_type": "code",
   "execution_count": 6,
   "id": "fa59aee7-40b2-4e8f-95ab-0417f2e22f9f",
   "metadata": {},
   "outputs": [
    {
     "name": "stdout",
     "output_type": "stream",
     "text": [
      "\n",
      "Poisson regression                              Number of obs     =      1,278\n",
      "\n",
      "                                                Wald chi2(13)     =  124850.39\n",
      "Log likelihood = -35956.198                     Prob > chi2       =     0.0000\n",
      "-------------------------------------------------------------------------------\n",
      "       deaths |        IRR   Std. err.      z    P>|z|     [95% conf. interval]\n",
      "--------------+----------------------------------------------------------------\n",
      "       agegrp |\n",
      "           3  |   10.53167   .8408704    29.49   0.000     9.006074     12.3157\n",
      "           4  |   104.5018   8.194758    59.29   0.000     89.61379    121.8633\n",
      "              |\n",
      "       ethgrp |\n",
      "           2  |   6.036293   .5530917    19.62   0.000     5.044018    7.223771\n",
      "           3  |   3.478262   .2841238    15.26   0.000     2.963681    4.082189\n",
      "              |\n",
      "agegrp#ethgrp |\n",
      "         3 2  |   .4641255   .0438667    -8.12   0.000     .3856421    .5585814\n",
      "         3 3  |   .6319995   .0532498    -5.45   0.000     .5357939    .7454795\n",
      "         4 2  |   .1746606   .0160545   -18.98   0.000      .145866    .2091394\n",
      "         4 3  |   .3944961   .0323627   -11.34   0.000     .3359031    .4633098\n",
      "              |\n",
      "     1.female |    .757984   .0035718   -58.80   0.000     .7510157    .7650169\n",
      "        time1 |    .809832   .0053018   -32.22   0.000      .799507    .8202903\n",
      "        time2 |    .420757   .0201467   -18.08   0.000     .3830665    .4621559\n",
      "        time3 |   10.81341   1.000866    25.72   0.000     9.019393    12.96427\n",
      "        time4 |   .0141002   .0015258   -39.38   0.000     .0114056    .0174316\n",
      "        _cons |   8.30e+63   3.93e+64    31.09   0.000     7.76e+59    8.88e+67\n",
      "    ln(cases) |          1  (exposure)\n",
      "-------------------------------------------------------------------------------\n",
      "Note: _cons estimates baseline incidence rate (conditional on zero random effects).\n",
      "\n",
      "Poisson regression                              Number of obs     =      1,278\n",
      "\n",
      "                                                Wald chi2(13)     =    2346.91\n",
      "Log pseudolikelihood = -35956.198               Prob > chi2       =     0.0000\n",
      "-------------------------------------------------------------------------------\n",
      "              |               Robust\n",
      "       deaths |        IRR   std. err.      z    P>|z|     [95% conf. interval]\n",
      "--------------+----------------------------------------------------------------\n",
      "       agegrp |\n",
      "           3  |   10.53167   3.601111     6.89   0.000     5.388209    20.58496\n",
      "           4  |   104.5018   34.17996    14.21   0.000     55.04486     198.395\n",
      "              |\n",
      "       ethgrp |\n",
      "           2  |   6.036293   2.624568     4.13   0.000     2.574361    14.15374\n",
      "           3  |   3.478262   1.289273     3.36   0.001     1.682097    7.192396\n",
      "              |\n",
      "agegrp#ethgrp |\n",
      "         3 2  |   .4641255   .2189622    -1.63   0.104      .184103    1.170065\n",
      "         3 3  |   .6319995   .2497469    -1.16   0.246      .291305    1.371152\n",
      "         4 2  |   .1746606   .0768348    -3.97   0.000     .0737469    .4136626\n",
      "         4 3  |   .3944961    .148169    -2.48   0.013     .1889467    .8236563\n",
      "              |\n",
      "     1.female |    .757984   .0372095    -5.64   0.000     .6884533     .834537\n",
      "        time1 |    .809832   .0409679    -4.17   0.000     .7333887    .8942431\n",
      "        time2 |    .420757   .1750366    -2.08   0.037     .1861779    .9508993\n",
      "        time3 |   10.81341   9.112129     2.83   0.005     2.073391    56.39545\n",
      "        time4 |   .0141002   .0158736    -3.79   0.000     .0015523     .128081\n",
      "        _cons |   8.30e+63   3.04e+65     4.02   0.000     6.13e+32    1.12e+95\n",
      "    ln(cases) |          1  (exposure)\n",
      "-------------------------------------------------------------------------------\n",
      "Note: _cons estimates baseline incidence rate (conditional on zero random effects).\n",
      "\n",
      "Poisson regression                              Number of obs     =      1,278\n",
      "\n",
      "                                                Wald chi2(13)     =   59282.21\n",
      "Log pseudolikelihood = -35956.198               Prob > chi2       =     0.0000\n",
      "                                  (Std. err. adjusted for 38 clusters in state)\n",
      "-------------------------------------------------------------------------------\n",
      "              |               Robust\n",
      "       deaths |        IRR   std. err.      z    P>|z|     [95% conf. interval]\n",
      "--------------+----------------------------------------------------------------\n",
      "       agegrp |\n",
      "           3  |   10.53167   4.691633     5.29   0.000     4.398506    25.21676\n",
      "           4  |   104.5018   54.77185     8.87   0.000     37.41012    291.9164\n",
      "              |\n",
      "       ethgrp |\n",
      "           2  |   6.036293   2.497268     4.35   0.000     2.682999    13.58063\n",
      "           3  |   3.478262   1.528999     2.84   0.005     1.469552    8.232649\n",
      "              |\n",
      "agegrp#ethgrp |\n",
      "         3 2  |   .4641255   .1877746    -1.90   0.058     .2100191    1.025681\n",
      "         3 3  |   .6319995   .2638071    -1.10   0.272      .278876    1.432262\n",
      "         4 2  |   .1746606   .0691919    -4.40   0.000     .0803509    .3796637\n",
      "         4 3  |   .3944961    .190898    -1.92   0.055     .1528071    1.018455\n",
      "              |\n",
      "     1.female |    .757984   .0217734    -9.65   0.000     .7164881    .8018831\n",
      "        time1 |    .809832   .0781893    -2.18   0.029     .6702107    .9785398\n",
      "        time2 |    .420757   .3085132    -1.18   0.238     .0999774    1.770765\n",
      "        time3 |   10.81341   17.32448     1.49   0.137     .4679807    249.8604\n",
      "        time4 |   .0141002   .0380699    -1.58   0.114      .000071    2.801725\n",
      "        _cons |   8.30e+63   5.81e+65     2.10   0.036     21080.43    3.3e+123\n",
      "    ln(cases) |          1  (exposure)\n",
      "-------------------------------------------------------------------------------\n",
      "Note: _cons estimates baseline incidence rate (conditional on zero random effects).\n",
      "\n"
     ]
    }
   ],
   "source": [
    "%%stata -qui\n",
    "mkspline time = month, cubic\n",
    "noi mepoisson deaths i.agegrp##i.ethgrp i.female time*, exposure(cases) irr nolog\n",
    "noi mepoisson deaths i.agegrp##i.ethgrp i.female time*, exposure(cases) irr vce(robust) nolog\n",
    "noi mepoisson deaths i.agegrp##i.ethgrp i.female time*, exposure(cases) irr vce(cluster state) nolog"
   ]
  },
  {
   "cell_type": "markdown",
   "id": "c31a0968-2f4d-4757-b6b3-aba5db4aeeee",
   "metadata": {},
   "source": [
    "Now we extend the model to account for additional variability at the state level as well as within state over time by incorporating hierarchical random effects. We use the cluster-robust variance estimator despite the relatively small number of clusters; this yields variance estimates that are reassuringly similar to what we achieved when fitting the random-effects model to the state-specific CFR ratios (see Cameron and Miller (2015) for discussion of the adequacy of this variance estimator with a small number of clusters)."
   ]
  },
  {
   "cell_type": "code",
   "execution_count": 7,
   "id": "3fab6a38-31d8-4a0a-8281-42a3b1b58313",
   "metadata": {
    "tags": []
   },
   "outputs": [
    {
     "name": "stdout",
     "output_type": "stream",
     "text": [
      "\n",
      "Fitting fixed-effects model:\n",
      "\n",
      "Iteration 0:   log likelihood = -55209.979  \n",
      "Iteration 1:   log likelihood =  -36123.39  \n",
      "Iteration 2:   log likelihood = -35956.481  \n",
      "Iteration 3:   log likelihood = -35956.198  \n",
      "Iteration 4:   log likelihood = -35956.198  \n",
      "\n",
      "Refining starting values:\n",
      "\n",
      "Grid node 0:   log likelihood = -11220.108\n",
      "\n",
      "Refining starting values (unscaled likelihoods):\n",
      "\n",
      "Grid node 0:   log likelihood = -11208.589\n",
      "\n",
      "Fitting full model:\n",
      "\n",
      "Iteration 0:   log pseudolikelihood = -11208.589  (not concave)\n",
      "Iteration 1:   log pseudolikelihood =  -11178.74  (not concave)\n",
      "Iteration 2:   log pseudolikelihood = -11164.464  (not concave)\n",
      "Iteration 3:   log pseudolikelihood = -11161.609  (not concave)\n",
      "Iteration 4:   log pseudolikelihood = -11152.432  (not concave)\n",
      "Iteration 5:   log pseudolikelihood = -11137.835  (not concave)\n",
      "Iteration 6:   log pseudolikelihood = -11114.861  (not concave)\n",
      "Iteration 7:   log pseudolikelihood = -11079.234  \n",
      "Iteration 8:   log pseudolikelihood = -11059.114  \n",
      "Iteration 9:   log pseudolikelihood = -11024.844  (not concave)\n",
      "Iteration 10:  log pseudolikelihood =   -10973.8  (not concave)\n",
      "Iteration 11:  log pseudolikelihood = -10903.117  (not concave)\n",
      "Iteration 12:  log pseudolikelihood = -10855.955  (not concave)\n",
      "Iteration 13:  log pseudolikelihood = -10826.523  (not concave)\n",
      "Iteration 14:  log pseudolikelihood = -10816.762  \n",
      "Iteration 15:  log pseudolikelihood = -10801.027  \n",
      "Iteration 16:  log pseudolikelihood = -10795.614  \n",
      "Iteration 17:  log pseudolikelihood = -10795.571  \n",
      "Iteration 18:  log pseudolikelihood =  -10795.54  \n",
      "Iteration 19:  log pseudolikelihood = -10795.519  \n",
      "Iteration 20:  log pseudolikelihood = -10795.504  \n",
      "Iteration 21:  log pseudolikelihood = -10795.494  \n",
      "Iteration 22:  log pseudolikelihood = -10795.487  \n",
      "Iteration 23:  log pseudolikelihood = -10795.482  \n",
      "Iteration 24:  log pseudolikelihood =  -10795.48  \n",
      "Iteration 25:  log pseudolikelihood = -10795.478  \n",
      "Iteration 26:  log pseudolikelihood = -10795.478  \n",
      "Iteration 27:  log pseudolikelihood = -10795.477  \n",
      "Iteration 28:  log pseudolikelihood = -10795.477  \n",
      "Iteration 29:  log pseudolikelihood = -10795.477  \n",
      "Iteration 30:  log pseudolikelihood = -10795.477  \n",
      "Iteration 31:  log pseudolikelihood = -10795.477  \n",
      "Iteration 32:  log pseudolikelihood = -10795.477  \n",
      "\n",
      "Mixed-effects Poisson regression                Number of obs     =      1,278\n",
      "\n",
      "        Grouping information\n",
      "        -------------------------------------------------------------\n",
      "                        |     No. of       Observations per group\n",
      "         Group variable |     groups    Minimum    Average    Maximum\n",
      "        ----------------+--------------------------------------------\n",
      "                  state |         38          2       33.6        119\n",
      "                  month |        330          1        3.9         16\n",
      "        -------------------------------------------------------------\n",
      "\n",
      "Integration method: mvaghermite                 Integration pts.  =          7\n",
      "\n",
      "                                                Wald chi2(13)     =   88249.38\n",
      "Log pseudolikelihood = -10795.477               Prob > chi2       =     0.0000\n",
      "                                  (Std. err. adjusted for 38 clusters in state)\n",
      "-------------------------------------------------------------------------------\n",
      "              |               Robust\n",
      "       deaths |        IRR   std. err.      z    P>|z|     [95% conf. interval]\n",
      "--------------+----------------------------------------------------------------\n",
      "       agegrp |\n",
      "           3  |   11.27423   3.898626     7.01   0.000     5.724552    22.20405\n",
      "           4  |   134.1276   53.68257    12.24   0.000     61.21216    293.8995\n",
      "              |\n",
      "       ethgrp |\n",
      "           2  |   6.025542   1.785628     6.06   0.000      3.37092     10.7707\n",
      "           3  |   4.064217   1.587862     3.59   0.000      1.88981    8.740484\n",
      "              |\n",
      "agegrp#ethgrp |\n",
      "         3 2  |   .4479217   .1330351    -2.70   0.007     .2502597    .8017028\n",
      "         3 3  |   .5878589   .1843491    -1.69   0.090     .3179372    1.086938\n",
      "         4 2  |   .1581063    .042508    -6.86   0.000     .0933464    .2677939\n",
      "         4 3  |   .2905947   .1013074    -3.54   0.000     .1467375    .5754855\n",
      "              |\n",
      "     1.female |   .7647435   .0241761    -8.48   0.000     .7187974    .8136265\n",
      "        time1 |   .8565049   .0036354   -36.49   0.000     .8494093    .8636598\n",
      "        time2 |   .2511173   .0604693    -5.74   0.000     .1566414    .4025749\n",
      "        time3 |   40.76473   23.81582     6.35   0.000      12.9715    128.1088\n",
      "        time4 |   .0007113   .0007612    -6.77   0.000     .0000873    .0057935\n",
      "        _cons |   1.15e+46   3.74e+46    32.61   0.000     1.96e+43    6.75e+48\n",
      "    ln(cases) |          1  (exposure)\n",
      "--------------+----------------------------------------------------------------\n",
      "state         |\n",
      "    var(_cons)|   .3114462   .0780421                      .1905852     .508952\n",
      "--------------+----------------------------------------------------------------\n",
      "state>month   |\n",
      "    var(_cons)|   .2626457   .0465426                      .1855802    .3717142\n",
      "-------------------------------------------------------------------------------\n",
      "Note: Estimates are transformed only in the first equation to incidence-rate ratios.\n",
      "Note: _cons estimates baseline incidence rate (conditional on zero random effects).\n"
     ]
    }
   ],
   "source": [
    "%stata mepoisson deaths i.agegrp##i.ethgrp i.female time*, exposure(cases) vce(robust) irr || state: || month:"
   ]
  },
  {
   "cell_type": "markdown",
   "id": "cd2ddd57-ecf8-4075-9988-38962b0a457c",
   "metadata": {},
   "source": [
    "The CFR ratios for race/ethnicity in the table above refer to the youngest age group in our analysis (18-49); we can compute the CFRs for the other age groups via simple linear combinations of the estimated coefficients. For example, here is the CFR ratio for Blacks compared to Whites, ages 50-64:"
   ]
  },
  {
   "cell_type": "code",
   "execution_count": 8,
   "id": "d5c1d8d5-4fa9-4a6a-80af-00333ad49a39",
   "metadata": {},
   "outputs": [
    {
     "name": "stdout",
     "output_type": "stream",
     "text": [
      "\n",
      " ( 1)  [deaths]2.ethgrp + [deaths]3.agegrp#2.ethgrp = 0\n",
      "\n",
      "------------------------------------------------------------------------------\n",
      "      deaths |        IRR   Std. err.      z    P>|z|     [95% conf. interval]\n",
      "-------------+----------------------------------------------------------------\n",
      "         (1) |   2.698971   .5904787     4.54   0.000     1.757815    4.144035\n",
      "------------------------------------------------------------------------------\n"
     ]
    }
   ],
   "source": [
    "%stata lincom 2.ethgrp + 3.agegrp#2.ethgrp, irr"
   ]
  },
  {
   "cell_type": "markdown",
   "id": "d37f881e-31ea-4be6-8c11-c46a2996d454",
   "metadata": {},
   "source": [
    "CFR ratio for Blacks compared to Whites, ages 65+"
   ]
  },
  {
   "cell_type": "code",
   "execution_count": 9,
   "id": "5efa5712-145f-41dc-8c3d-e656ff1e67ca",
   "metadata": {},
   "outputs": [
    {
     "name": "stdout",
     "output_type": "stream",
     "text": [
      "\n",
      " ( 1)  [deaths]2.ethgrp + [deaths]4.agegrp#2.ethgrp = 0\n",
      "\n",
      "------------------------------------------------------------------------------\n",
      "      deaths |        IRR   Std. err.      z    P>|z|     [95% conf. interval]\n",
      "-------------+----------------------------------------------------------------\n",
      "         (1) |   .9526762   .0667218    -0.69   0.489     .8304824    1.092849\n",
      "------------------------------------------------------------------------------\n"
     ]
    }
   ],
   "source": [
    "%stata lincom 2.ethgrp + 4.agegrp#2.ethgrp, irr"
   ]
  },
  {
   "cell_type": "markdown",
   "id": "ac49d01a-66ef-40b7-a717-fe41626a2c2a",
   "metadata": {},
   "source": [
    "CFR ratio for Hispanics compared to Whites, ages 50-64"
   ]
  },
  {
   "cell_type": "code",
   "execution_count": 10,
   "id": "5ee2e7c6-b3f8-412d-9ece-a1c8c770d907",
   "metadata": {},
   "outputs": [
    {
     "name": "stdout",
     "output_type": "stream",
     "text": [
      "\n",
      " ( 1)  [deaths]3.ethgrp + [deaths]3.agegrp#3.ethgrp = 0\n",
      "\n",
      "------------------------------------------------------------------------------\n",
      "      deaths |        IRR   Std. err.      z    P>|z|     [95% conf. interval]\n",
      "-------------+----------------------------------------------------------------\n",
      "         (1) |   2.389186   .5531177     3.76   0.000     1.517712    3.761063\n",
      "------------------------------------------------------------------------------\n"
     ]
    }
   ],
   "source": [
    "%stata lincom 3.ethgrp + 3.agegrp#3.ethgrp, irr"
   ]
  },
  {
   "cell_type": "markdown",
   "id": "2bf560c9-8104-4d0b-8163-275e7f71ff5a",
   "metadata": {},
   "source": [
    "CFR ratio for Hispanics compared to Whites, ages 65+"
   ]
  },
  {
   "cell_type": "code",
   "execution_count": 11,
   "id": "273f10fe-e463-4416-8238-1a0159fb3bf4",
   "metadata": {
    "tags": []
   },
   "outputs": [
    {
     "name": "stdout",
     "output_type": "stream",
     "text": [
      "\n",
      " ( 1)  [deaths]3.ethgrp + [deaths]4.agegrp#3.ethgrp = 0\n",
      "\n",
      "------------------------------------------------------------------------------\n",
      "      deaths |        IRR   Std. err.      z    P>|z|     [95% conf. interval]\n",
      "-------------+----------------------------------------------------------------\n",
      "         (1) |    1.18104   .1052684     1.87   0.062     .9917343    1.406481\n",
      "------------------------------------------------------------------------------\n"
     ]
    }
   ],
   "source": [
    "%stata lincom 3.ethgrp + 4.agegrp#3.ethgrp, irr"
   ]
  },
  {
   "cell_type": "markdown",
   "id": "e4d9baf2-ae70-411a-a3ef-fb26a12ee805",
   "metadata": {},
   "source": [
    "Here we generate and save the state-level random effects, so that we may plot them later on."
   ]
  },
  {
   "cell_type": "code",
   "execution_count": 12,
   "id": "5529edaa-2bde-44d6-896c-22737fb82554",
   "metadata": {},
   "outputs": [
    {
     "name": "stdout",
     "output_type": "stream",
     "text": [
      "\n"
     ]
    }
   ],
   "source": [
    "%%stata -qui\n",
    "predict re*, reffects ebmeans\n",
    "preserve\n",
    "    keep res_state re1\n",
    "    duplicates drop\n",
    "    isid res_state, so\n",
    "    cap mkdir tmp\n",
    "    export delim using tmp/state_effects.csv, replace\n",
    "restore"
   ]
  },
  {
   "cell_type": "markdown",
   "id": "ec90cc13-9e9b-4379-96db-14cdc4fa09db",
   "metadata": {},
   "source": [
    "Finally, we'll plot the estimated trend over time. This takes a little extra effort because of the cubic splines. First, we create a synthetic dataset containing the total number of individuals for each age x ethnicity x gender combination. This will permit us to compute the marginal CFR across all individuals in the dataset."
   ]
  },
  {
   "cell_type": "code",
   "execution_count": 13,
   "id": "081fb5c1-4e04-49b0-8f6d-d25a6824a252",
   "metadata": {
    "tags": []
   },
   "outputs": [
    {
     "name": "stdout",
     "output_type": "stream",
     "text": [
      "\n"
     ]
    }
   ],
   "source": [
    "%%stata -qui\n",
    "preserve\n",
    "    collapse (sum) n=cases, by(agegrp ethgrp female)\n",
    "    tempfile wgts\n",
    "    save `\"`wgts'\n",
    "restore\n",
    "keep time*\n",
    "duplicates drop\n",
    "cross using `\"`wgts'\"'"
   ]
  },
  {
   "cell_type": "markdown",
   "id": "e0070817-5c8a-4cda-a6c6-217413bfca38",
   "metadata": {},
   "source": [
    "Next, we generate the predictions; note that Stata won't generate predictions unless the dataset contains all of the variables used in the model, so we have to generate the remaining ones which we can simply set to missing. We also create a `cases` variable set to 1, so that our predictions will represent the estimated CFR."
   ]
  },
  {
   "cell_type": "code",
   "execution_count": 14,
   "id": "3803c2a0-8827-4594-9a30-bb2296a80253",
   "metadata": {},
   "outputs": [
    {
     "name": "stdout",
     "output_type": "stream",
     "text": [
      "\n"
     ]
    }
   ],
   "source": [
    "%%stata -qui\n",
    "gen byte cases = 1\n",
    "gen byte deaths = .\n",
    "gen byte state = .\n",
    "gen byte month = .\n",
    "predict p, fixedonly\n",
    "collapse (mean) p [fweight=n], by(time1)"
   ]
  },
  {
   "cell_type": "markdown",
   "id": "fc6e2cda-0516-42a9-a406-148735994748",
   "metadata": {},
   "source": [
    "Finally, we can plot the curve."
   ]
  },
  {
   "cell_type": "code",
   "execution_count": 15,
   "id": "8ddd9243-4482-458d-980e-a3ec574de90a",
   "metadata": {
    "tags": []
   },
   "outputs": [
    {
     "name": "stdout",
     "output_type": "stream",
     "text": [
      "\n"
     ]
    },
    {
     "data": {
      "image/svg+xml": [
       "<svg xmlns=\"http://www.w3.org/2000/svg\" xmlns:xlink=\"http://www.w3.org/1999/xlink\" version=\"1.1\" width=\"528px\" height=\"384px\" viewBox=\"0 0 3960 2880\">\n",
       "\t<desc>Stata Graph - Graph</desc>\n",
       "\t<rect x=\"0\" y=\"0\" width=\"3960\" height=\"2880\" style=\"fill:#FFFFFF;stroke:none\"/>\n",
       "\t<rect x=\"0.00\" y=\"0.00\" width=\"3959.88\" height=\"2880.00\" style=\"fill:#FFFFFF\"/>\n",
       "\t<rect x=\"2.88\" y=\"2.88\" width=\"3954.12\" height=\"2874.24\" style=\"fill:none;stroke:#FFFFFF;stroke-width:5.76\"/>\n",
       "\t<rect x=\"524.61\" y=\"358.18\" width=\"3331.53\" height=\"2128.13\" style=\"fill:none;stroke:#000000;stroke-width:5.76\"/>\n",
       "\t<line x1=\"585.09\" y1=\"2489.19\" x2=\"585.09\" y2=\"355.30\" style=\"stroke:#E0E0E0;stroke-width:8.64\"/>\n",
       "\t<line x1=\"832.10\" y1=\"2489.19\" x2=\"832.10\" y2=\"355.30\" style=\"stroke:#E0E0E0;stroke-width:8.64\"/>\n",
       "\t<line x1=\"1079.10\" y1=\"2489.19\" x2=\"1079.10\" y2=\"355.30\" style=\"stroke:#E0E0E0;stroke-width:8.64\"/>\n",
       "\t<line x1=\"1325.98\" y1=\"2489.19\" x2=\"1325.98\" y2=\"355.30\" style=\"stroke:#E0E0E0;stroke-width:8.64\"/>\n",
       "\t<line x1=\"1572.99\" y1=\"2489.19\" x2=\"1572.99\" y2=\"355.30\" style=\"stroke:#E0E0E0;stroke-width:8.64\"/>\n",
       "\t<line x1=\"1819.99\" y1=\"2489.19\" x2=\"1819.99\" y2=\"355.30\" style=\"stroke:#E0E0E0;stroke-width:8.64\"/>\n",
       "\t<line x1=\"2067.00\" y1=\"2489.19\" x2=\"2067.00\" y2=\"355.30\" style=\"stroke:#E0E0E0;stroke-width:8.64\"/>\n",
       "\t<line x1=\"2313.88\" y1=\"2489.19\" x2=\"2313.88\" y2=\"355.30\" style=\"stroke:#E0E0E0;stroke-width:8.64\"/>\n",
       "\t<line x1=\"2560.88\" y1=\"2489.19\" x2=\"2560.88\" y2=\"355.30\" style=\"stroke:#E0E0E0;stroke-width:8.64\"/>\n",
       "\t<line x1=\"2807.89\" y1=\"2489.19\" x2=\"2807.89\" y2=\"355.30\" style=\"stroke:#E0E0E0;stroke-width:8.64\"/>\n",
       "\t<line x1=\"3054.77\" y1=\"2489.19\" x2=\"3054.77\" y2=\"355.30\" style=\"stroke:#E0E0E0;stroke-width:8.64\"/>\n",
       "\t<line x1=\"3301.77\" y1=\"2489.19\" x2=\"3301.77\" y2=\"355.30\" style=\"stroke:#E0E0E0;stroke-width:8.64\"/>\n",
       "\t<line x1=\"3548.78\" y1=\"2489.19\" x2=\"3548.78\" y2=\"355.30\" style=\"stroke:#E0E0E0;stroke-width:8.64\"/>\n",
       "\t<line x1=\"3795.66\" y1=\"2489.19\" x2=\"3795.66\" y2=\"355.30\" style=\"stroke:#E0E0E0;stroke-width:8.64\"/>\n",
       "\t<path d=\" M585.09 418.78 L832.10 594.88 L1078.98 770.99 L1325.98 959.96 L1572.99 1227.02 L1819.87 1614.86 L2066.87 2027.46 L2313.88 2333.63 L2560.76 2402.19 L2807.76 2170.27 L3054.77 1847.03 L3301.77 1710.15 L3548.66 1952.09 L3795.66 2425.95\" stroke-linejoin=\"round\" style=\"fill:none;stroke:#606060;stroke-width:8.64\"/>\n",
       "\t<line x1=\"521.73\" y1=\"2489.19\" x2=\"521.73\" y2=\"355.30\" style=\"stroke:#000000;stroke-width:5.76\"/>\n",
       "\t<line x1=\"521.73\" y1=\"2342.17\" x2=\"481.76\" y2=\"2342.17\" style=\"stroke:#000000;stroke-width:5.76\"/>\n",
       "\t<text x=\"461.84\" y=\"2377.19\" style=\"font-family:'Helvetica';font-size:99.99px;fill:#000000\" text-anchor=\"end\">0.05</text>\n",
       "\t<line x1=\"521.73\" y1=\"1554.22\" x2=\"481.76\" y2=\"1554.22\" style=\"stroke:#000000;stroke-width:5.76\"/>\n",
       "\t<text x=\"461.84\" y=\"1589.25\" style=\"font-family:'Helvetica';font-size:99.99px;fill:#000000\" text-anchor=\"end\">0.10</text>\n",
       "\t<line x1=\"521.73\" y1=\"1093.24\" x2=\"481.76\" y2=\"1093.24\" style=\"stroke:#000000;stroke-width:5.76\"/>\n",
       "\t<text x=\"461.84\" y=\"1128.27\" style=\"font-family:'Helvetica';font-size:99.99px;fill:#000000\" text-anchor=\"end\">0.15</text>\n",
       "\t<line x1=\"521.73\" y1=\"766.28\" x2=\"481.76\" y2=\"766.28\" style=\"stroke:#000000;stroke-width:5.76\"/>\n",
       "\t<text x=\"461.84\" y=\"801.31\" style=\"font-family:'Helvetica';font-size:99.99px;fill:#000000\" text-anchor=\"end\">0.20</text>\n",
       "\t<line x1=\"521.73\" y1=\"512.59\" x2=\"481.76\" y2=\"512.59\" style=\"stroke:#000000;stroke-width:5.76\"/>\n",
       "\t<text x=\"461.84\" y=\"547.62\" style=\"font-family:'Helvetica';font-size:99.99px;fill:#000000\" text-anchor=\"end\">0.25</text>\n",
       "\t<text x=\"190.71\" y=\"1422.30\" style=\"font-family:'Helvetica';font-size:99.99px;fill:#000000\" transform=\"rotate(-90 190.71,1422.30)\" text-anchor=\"middle\">Marginal CFR from fixed part of model</text>\n",
       "\t<line x1=\"521.73\" y1=\"2489.19\" x2=\"3859.02\" y2=\"2489.19\" style=\"stroke:#000000;stroke-width:5.76\"/>\n",
       "\t<line x1=\"585.09\" y1=\"2489.19\" x2=\"585.09\" y2=\"2529.16\" style=\"stroke:#000000;stroke-width:5.76\"/>\n",
       "\t<text x=\"585.09\" y=\"2619.14\" style=\"font-family:'Helvetica';font-size:99.99px;fill:#000000\" text-anchor=\"middle\">2020m1</text>\n",
       "\t<line x1=\"1325.98\" y1=\"2489.19\" x2=\"1325.98\" y2=\"2529.16\" style=\"stroke:#000000;stroke-width:5.76\"/>\n",
       "\t<text x=\"1325.98\" y=\"2619.14\" style=\"font-family:'Helvetica';font-size:99.99px;fill:#000000\" text-anchor=\"middle\">2020m4</text>\n",
       "\t<line x1=\"2067.00\" y1=\"2489.19\" x2=\"2067.00\" y2=\"2529.16\" style=\"stroke:#000000;stroke-width:5.76\"/>\n",
       "\t<text x=\"2067.00\" y=\"2619.14\" style=\"font-family:'Helvetica';font-size:99.99px;fill:#000000\" text-anchor=\"middle\">2020m7</text>\n",
       "\t<line x1=\"2807.89\" y1=\"2489.19\" x2=\"2807.89\" y2=\"2529.16\" style=\"stroke:#000000;stroke-width:5.76\"/>\n",
       "\t<text x=\"2807.89\" y=\"2619.14\" style=\"font-family:'Helvetica';font-size:99.99px;fill:#000000\" text-anchor=\"middle\">2020m10</text>\n",
       "\t<line x1=\"3548.78\" y1=\"2489.19\" x2=\"3548.78\" y2=\"2529.16\" style=\"stroke:#000000;stroke-width:5.76\"/>\n",
       "\t<text x=\"3548.78\" y=\"2619.14\" style=\"font-family:'Helvetica';font-size:99.99px;fill:#000000\" text-anchor=\"middle\">2021m1</text>\n",
       "\t<line x1=\"585.09\" y1=\"2489.19\" x2=\"585.09\" y2=\"2529.16\" style=\"stroke:#000000;stroke-width:5.76\"/>\n",
       "\t<line x1=\"832.10\" y1=\"2489.19\" x2=\"832.10\" y2=\"2529.16\" style=\"stroke:#000000;stroke-width:5.76\"/>\n",
       "\t<line x1=\"1079.10\" y1=\"2489.19\" x2=\"1079.10\" y2=\"2529.16\" style=\"stroke:#000000;stroke-width:5.76\"/>\n",
       "\t<line x1=\"1325.98\" y1=\"2489.19\" x2=\"1325.98\" y2=\"2529.16\" style=\"stroke:#000000;stroke-width:5.76\"/>\n",
       "\t<line x1=\"1572.99\" y1=\"2489.19\" x2=\"1572.99\" y2=\"2529.16\" style=\"stroke:#000000;stroke-width:5.76\"/>\n",
       "\t<line x1=\"1819.99\" y1=\"2489.19\" x2=\"1819.99\" y2=\"2529.16\" style=\"stroke:#000000;stroke-width:5.76\"/>\n",
       "\t<line x1=\"2067.00\" y1=\"2489.19\" x2=\"2067.00\" y2=\"2529.16\" style=\"stroke:#000000;stroke-width:5.76\"/>\n",
       "\t<line x1=\"2313.88\" y1=\"2489.19\" x2=\"2313.88\" y2=\"2529.16\" style=\"stroke:#000000;stroke-width:5.76\"/>\n",
       "\t<line x1=\"2560.88\" y1=\"2489.19\" x2=\"2560.88\" y2=\"2529.16\" style=\"stroke:#000000;stroke-width:5.76\"/>\n",
       "\t<line x1=\"2807.89\" y1=\"2489.19\" x2=\"2807.89\" y2=\"2529.16\" style=\"stroke:#000000;stroke-width:5.76\"/>\n",
       "\t<line x1=\"3054.77\" y1=\"2489.19\" x2=\"3054.77\" y2=\"2529.16\" style=\"stroke:#000000;stroke-width:5.76\"/>\n",
       "\t<line x1=\"3301.77\" y1=\"2489.19\" x2=\"3301.77\" y2=\"2529.16\" style=\"stroke:#000000;stroke-width:5.76\"/>\n",
       "\t<line x1=\"3548.78\" y1=\"2489.19\" x2=\"3548.78\" y2=\"2529.16\" style=\"stroke:#000000;stroke-width:5.76\"/>\n",
       "\t<line x1=\"3795.66\" y1=\"2489.19\" x2=\"3795.66\" y2=\"2529.16\" style=\"stroke:#000000;stroke-width:5.76\"/>\n",
       "\t<text x=\"2190.38\" y=\"2729.16\" style=\"font-family:'Helvetica';font-size:99.99px;fill:#000000\" text-anchor=\"middle\">Month</text>\n",
       "\t<text x=\"184.02\" y=\"195.01\" style=\"font-family:'Helvetica';font-size:110.01px;fill:#000000\">Figure 2. Estimated overall time trend in CFR from mixed-effects model</text>\n",
       "\t<text x=\"184.02\" y=\"305.03\" style=\"font-family:'Helvetica';font-size:110.01px;fill:#000000\">fit to CDC data, parameterized using restricted cubic spline with 5 knots</text>\n",
       "</svg>"
      ],
      "text/plain": [
       "<IPython.core.display.SVG object>"
      ]
     },
     "metadata": {},
     "output_type": "display_data"
    }
   ],
   "source": [
    "%%stata -qui\n",
    "format %tm time1\n",
    "line p time1, xlab(720(3)733) xtitle(\"Month\") ytitle(\"Marginal CFR from fixed part of model\") ///\n",
    "    ylab(, angle(horizontal) format(%4.2f)) yscale(log) xtick(720(1)733, grid) ///\n",
    "    title(\"Figure 2. Estimated overall time trend in CFR from mixed-effects model\" \"fit to CDC data, parameterized using restricted cubic spline with 5 knots\", ///\n",
    "          size(medium) justification(left) span)\n",
    "cap mkdir tmp\n",
    "gr export tmp/fig2.pdf, replace"
   ]
  }
 ],
 "metadata": {
  "kernelspec": {
   "display_name": "Python 3 (ipykernel)",
   "language": "python",
   "name": "python3"
  },
  "language_info": {
   "codemirror_mode": {
    "name": "ipython",
    "version": 3
   },
   "file_extension": ".py",
   "mimetype": "text/x-python",
   "name": "python",
   "nbconvert_exporter": "python",
   "pygments_lexer": "ipython3",
   "version": "3.8.9"
  }
 },
 "nbformat": 4,
 "nbformat_minor": 5
}
